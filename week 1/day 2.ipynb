{
 "cells": [
  {
   "cell_type": "code",
   "execution_count": 1,
   "id": "d013d7cf",
   "metadata": {},
   "outputs": [],
   "source": [
    "import requests\n",
    "from bs4 import BeautifulSoup\n",
    "from IPython.display import Markdown, display\n",
    "import ollama"
   ]
  },
  {
   "cell_type": "code",
   "execution_count": null,
   "id": "d3e2350d",
   "metadata": {},
   "outputs": [],
   "source": [
    "class Website:\n",
    "    def __init__(self, url):\n",
    "        self.url = url\n",
    "        response = requests.get(url)\n",
    "        soup = BeautifulSoup(response.content, 'html.parser')\n",
    "        self.title = soup.title.string if soup.title else 'no title found'\n",
    "\n",
    "        # Remove irrelevant tags\n",
    "        for tag in soup.body(['script', 'style', 'img', 'input']):\n",
    "            tag.decompose()\n",
    "\n",
    "        self.text = soup.body.get_text(separator=\"\\n\", strip=True)\n"
   ]
  },
  {
   "cell_type": "code",
   "execution_count": 3,
   "id": "69ec1241",
   "metadata": {},
   "outputs": [],
   "source": [
    "MODEL = \"llama3.2\""
   ]
  },
  {
   "cell_type": "code",
   "execution_count": 4,
   "id": "5e10c81a",
   "metadata": {},
   "outputs": [],
   "source": [
    "system_prompt = \"You are an assistant that analyzes the contents of a website \\\n",
    "and provides a short summary, ignoring text that might be navigation related. \\\n",
    "Respond in markdown.\"\n",
    "\n",
    "def user_prompt(Website):\n",
    "    prompt = f\"\"\"You are looking at a website titled: {Website.title}\n",
    "    The content of the website is as follows: {Website.text}\n",
    "    Please provide a short summary of this website in markdown. \n",
    "    If it includes news or announcements, then summarize them too. \n",
    "\"\"\"\n",
    "    return prompt\n"
   ]
  },
  {
   "cell_type": "code",
   "execution_count": null,
   "id": "14499a38",
   "metadata": {},
   "outputs": [],
   "source": [
    "def messages(Website):\n",
    "    return[\n",
    "        {\"role\": \"system\", \"content\": system_prompt},\n",
    "        {\"role\": \"user\", \"content\": user_prompt(Website)}\n",
    "    ]"
   ]
  },
  {
   "cell_type": "code",
   "execution_count": 10,
   "id": "30f6fad6",
   "metadata": {},
   "outputs": [],
   "source": [
    "def summarize(url) :\n",
    "    website = Website(url)\n",
    "    response = ollama.chat(MODEL,messages(website))\n",
    "    print(response['message']['content'])"
   ]
  },
  {
   "cell_type": "code",
   "execution_count": 11,
   "id": "eb3ee57c",
   "metadata": {},
   "outputs": [
    {
     "name": "stdout",
     "output_type": "stream",
     "text": [
      "**Website Summary**\n",
      "```markdown\n",
      "# Edward Donner's Website\n",
      "\n",
      "## About the Creator\n",
      "\n",
      "* Ed is the co-founder and CTO of Nebula.io, applying AI to help people discover their potential.\n",
      "* He's previously founded and CEO'd AI startup untapt, acquired in 2021.\n",
      "\n",
      "## Recent Announcements\n",
      "\n",
      "* **The Complete Agentic AI Engineering Course** (April 21, 2025)\n",
      "* **LLM Workshop – Hands-on with Agents – resources** (December 21, 2024)\n",
      "* **Mastering AI and LLM Engineering – Resources** (November 13, 2024)\n",
      "\n",
      "## Projects\n",
      "\n",
      "* Connect Four: a game featuring artificial intelligence.\n",
      "* Outsmart: an arena pitting LLMs against each other in a battle of diplomacy and deviousness.\n",
      "```\n",
      "Note that I've ignored navigation-related text and only summarized the content, announcements, and projects.\n"
     ]
    }
   ],
   "source": [
    "website_summary = summarize(\"https://edwarddonner.com\")"
   ]
  },
  {
   "cell_type": "code",
   "execution_count": null,
   "id": "338308ef",
   "metadata": {},
   "outputs": [],
   "source": []
  }
 ],
 "metadata": {
  "kernelspec": {
   "display_name": "llm-engineering",
   "language": "python",
   "name": "python3"
  },
  "language_info": {
   "codemirror_mode": {
    "name": "ipython",
    "version": 3
   },
   "file_extension": ".py",
   "mimetype": "text/x-python",
   "name": "python",
   "nbconvert_exporter": "python",
   "pygments_lexer": "ipython3",
   "version": "3.9.21"
  }
 },
 "nbformat": 4,
 "nbformat_minor": 5
}
