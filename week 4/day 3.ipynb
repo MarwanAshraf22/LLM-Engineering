{
 "cells": [
  {
   "cell_type": "code",
   "execution_count": 4,
   "id": "e63c1c9c",
   "metadata": {},
   "outputs": [],
   "source": [
    "import os\n",
    "import io\n",
    "import sys\n",
    "from dotenv import load_dotenv\n",
    "from openai import OpenAI\n",
    "from google import genai\n",
    "from IPython.display import Markdown, display, update_display\n",
    "import gradio as gr\n",
    "import subprocess\n",
    "import platform"
   ]
  },
  {
   "cell_type": "code",
   "execution_count": 5,
   "id": "8a97e767",
   "metadata": {},
   "outputs": [],
   "source": [
    "load_dotenv()\n",
    "openai_key = os.getenv('OPENAI_API_KEY')\n",
    "google_key = os.getenv('GOOGLE_API_KEY')"
   ]
  },
  {
   "cell_type": "code",
   "execution_count": 6,
   "metadata": {},
   "outputs": [],
   "source": [
    "openai = OpenAI()\n",
    "\n",
    "openai_model = 'o3-mini'\n",
    "google_model = 'gemini-2.5-flash'"
   ]
  },
  {
   "cell_type": "code",
   "execution_count": 7,
   "metadata": {},
   "outputs": [],
   "source": [
    "system_message = \"You are an assistant that reimplements Python code in high performance C++ for an M1 Mac. \"\n",
    "system_message += \"Respond only with C++ code; use comments sparingly and do not provide any explanation other than occasional comments. \"\n",
    "system_message += \"The C++ response needs to produce an identical output in the fastest possible time.\""
   ]
  },
  {
   "cell_type": "code",
   "execution_count": 8,
   "metadata": {},
   "outputs": [],
   "source": [
    "def user_prompt(python):\n",
    "    user_prompt = \"Rewrite this Python code in C++ with the fastest possible implementation that produces identical output in the least time. \"\n",
    "    user_prompt += \"Respond only with C++ code; do not explain your work other than a few comments. \"\n",
    "    user_prompt += \"Pay attention to number types to ensure no int overflows. Remember to #include all necessary C++ packages such as iomanip.\\n\\n\"\n",
    "    user_prompt += python\n",
    "    return user_prompt"
   ]
  },
  {
   "cell_type": "code",
   "execution_count": 9,
   "id": "84426cfa",
   "metadata": {},
   "outputs": [],
   "source": [
    "def messages_for(python):\n",
    "    return [\n",
    "        {\"role\": \"system\", \"content\": system_message},\n",
    "        {\"role\": \"user\", \"content\": user_prompt(python)}\n",
    "    ]"
   ]
  },
  {
   "cell_type": "code",
   "execution_count": 10,
   "id": "7b7ad4c9",
   "metadata": {},
   "outputs": [],
   "source": [
    "def write_output_gpt(cpp):\n",
    "    code = cpp.replace(\"```cpp\",\"\").replace(\"```\",\"\")\n",
    "    with open(\"optimized_gpt.cpp\", \"w\") as f:\n",
    "        f.write(code)"
   ]
  },
  {
   "cell_type": "code",
   "execution_count": 11,
   "id": "880b9506",
   "metadata": {},
   "outputs": [],
   "source": [
    "def write_output_google(cpp):\n",
    "    code = cpp.replace(\"```cpp\",\"\").replace(\"```\",\"\")\n",
    "    with open(\"optimized_google.cpp\", \"w\") as f:\n",
    "        f.write(code)\n"
   ]
  },
  {
   "cell_type": "code",
   "execution_count": 12,
   "id": "bef17ff1",
   "metadata": {},
   "outputs": [],
   "source": [
    "def optimize_gpt(python):    \n",
    "    stream = openai.chat.completions.create(model=openai_model, messages=messages_for(python), stream=True)\n",
    "    reply = \"\"\n",
    "    for chunk in stream:\n",
    "        fragment = chunk.choices[0].delta.content or \"\"\n",
    "        reply += fragment\n",
    "        print(fragment, end='', flush=True)\n",
    "    write_output_gpt(reply)"
   ]
  },
  {
   "cell_type": "code",
   "execution_count": 13,
   "id": "a466d68d",
   "metadata": {},
   "outputs": [],
   "source": [
    "def optimize_google(python):\n",
    "\n",
    "    client = genai.Client(api_key=google_key)\n",
    "    response = \"\"\n",
    "    for chunk in client.models.generate_content_stream(\n",
    "        model=google_model,contents=user_prompt(python)):\n",
    "        print(chunk.text,end='')\n",
    "        response+= chunk.text\n",
    "    write_output_google(response)"
   ]
  },
  {
   "cell_type": "code",
   "execution_count": 14,
   "id": "60ec7b30",
   "metadata": {},
   "outputs": [],
   "source": [
    "pi = \"\"\"\n",
    "import time\n",
    "\n",
    "def calculate(iterations, param1, param2):\n",
    "    result = 1.0\n",
    "    for i in range(1, iterations+1):\n",
    "        j = i * param1 - param2\n",
    "        result -= (1/j)\n",
    "        j = i * param1 + param2\n",
    "        result += (1/j)\n",
    "    return result\n",
    "\n",
    "start_time = time.time()\n",
    "result = calculate(100_000_000, 4, 1) * 4\n",
    "end_time = time.time()\n",
    "\n",
    "print(f\"Result: {result:.12f}\")\n",
    "print(f\"Execution Time: {(end_time - start_time):.6f} seconds\")\n",
    "\"\"\""
   ]
  },
  {
   "cell_type": "code",
   "execution_count": 15,
   "id": "2e5affa7",
   "metadata": {},
   "outputs": [
    {
     "name": "stdout",
     "output_type": "stream",
     "text": [
      "Result: 3.141592658589\n",
      "Execution Time: 18.210901 seconds\n"
     ]
    }
   ],
   "source": [
    "exec(pi)"
   ]
  },
  {
   "cell_type": "code",
   "execution_count": 16,
   "id": "918a1e42",
   "metadata": {},
   "outputs": [
    {
     "name": "stdout",
     "output_type": "stream",
     "text": [
      "#include <iostream>\n",
      "#include <iomanip>\n",
      "#include <chrono>\n",
      "\n",
      "int main(){\n",
      "    const int64_t iterations = 100000000;\n",
      "    const double param1 = 4.0, param2 = 1.0;\n",
      "    double result = 1.0;\n",
      "    \n",
      "    auto start = std::chrono::high_resolution_clock::now();\n",
      "    \n",
      "    for (int64_t i = 1; i <= iterations; ++i) {\n",
      "        double j = i * param1 - param2;\n",
      "        result -= 1.0 / j;\n",
      "        j = i * param1 + param2;\n",
      "        result += 1.0 / j;\n",
      "    }\n",
      "    \n",
      "    result *= 4.0;\n",
      "    \n",
      "    auto end = std::chrono::high_resolution_clock::now();\n",
      "    std::chrono::duration<double> elapsed = end - start;\n",
      "    \n",
      "    std::cout << \"Result: \" << std::fixed << std::setprecision(12) << result << \"\\n\";\n",
      "    std::cout << \"Execution Time: \" << std::fixed << std::setprecision(6) << elapsed.count() << \" seconds\\n\";\n",
      "    \n",
      "    return 0;\n",
      "}"
     ]
    }
   ],
   "source": [
    "optimize_gpt(pi)"
   ]
  },
  {
   "cell_type": "code",
   "execution_count": 17,
   "id": "be7958b1",
   "metadata": {},
   "outputs": [
    {
     "name": "stdout",
     "output_type": "stream",
     "text": [
      "```cpp\n",
      "#include <iostream>   // Required for std::cout, std::endl\n",
      "#include <chrono>     // Required for std::chrono::high_resolution_clock\n",
      "#include <iomanip>    // Required for std::fixed, std::setprecision\n",
      "\n",
      "// Calculates the sum using an optimized algebraic identity for speed.\n",
      "// The original expression `(1/(i*P1 + P2)) - (1/(i*P1 - P2))` can be\n",
      "// rewritten as `( (i*P1 - P2) - (i*P1 + P2) ) / ( (i*P1 + P2) * (i*P1 - P2) )`\n",
      "// which simplifies to `(-2 * P2) / ( (i*P1)^2 - P2^2 )`.\n",
      "// This reduces the number of divisions and improves performance, while maintaining precision.\n",
      "double calculate(int iterations, int param1, int param2) {\n",
      "    double result = 1.0;\n",
      "    const double d_param2 = static_cast<double>(param2);\n",
      "    const double numerator_constant = -2.0 * d_param2; // Numerator for the simplified term\n",
      "    const double param2_sq = d_param2 * d_param2;     // Pre-calculate param2 squared\n",
      "\n",
      "    for (int i = 1; i <= iterations; ++i) {\n",
      "        // Calculate (i * param1) as a double\n",
      "        double i_param1_double = static_cast<double>(i) * param1;\n",
      "        // Calculate (i * param1)^2\n",
      "        double i_param1_sq = i_param1_double * i_param1_double;\n",
      "        // Denominator: (i * param1)^2 - param2^2\n",
      "        double denominator = i_param1_sq - param2_sq;\n",
      "\n",
      "        // Add the combined and simplified term to the result\n",
      "        result += numerator_constant / denominator;\n",
      "    }\n",
      "    return result;\n",
      "}\n",
      "\n",
      "int main() {\n",
      "    // Optimize C++ standard streams for faster input/output.\n",
      "    // Not strictly necessary for this small output, but good practice for performance.\n",
      "    std::ios_base::sync_with_stdio(false);\n",
      "    std::cin.tie(NULL);\n",
      "\n",
      "    // Define parameters matching the Python script.\n",
      "    // int types are sufficient as values fit within standard integer limits.\n",
      "    int iterations = 100'000'000;\n",
      "    int param1 = 4;\n",
      "    int param2 = 1;\n",
      "\n",
      "    // Record the starting time using a high-resolution clock.\n",
      "    auto start_time = std::chrono::high_resolution_clock::now();\n",
      "\n",
      "    // Call the calculation function and multiply the result by 4, as in Python.\n",
      "    // All calculations within 'calculate' use 'double' to match Python's float precision.\n",
      "    double final_result = calculate(iterations, param1, param2) * 4;\n",
      "\n",
      "    // Record the ending time.\n",
      "    auto end_time = std::chrono::high_resolution_clock::now();\n",
      "\n",
      "    // Calculate the duration of execution in seconds.\n",
      "    std::chrono::duration<double> duration = end_time - start_time;\n",
      "\n",
      "    // Print the final result formatted to 12 decimal places.\n",
      "    std::cout << \"Result: \" << std::fixed << std::setprecision(12) << final_result << std::endl;\n",
      "    // Print the execution time formatted to 6 decimal places.\n",
      "    std::cout << \"Execution Time: \" << std::fixed << std::setprecision(6) << duration.count() << \" seconds\" << std::endl;\n",
      "\n",
      "    return 0;\n",
      "}\n",
      "```"
     ]
    }
   ],
   "source": [
    "optimize_google(pi)"
   ]
  },
  {
   "cell_type": "code",
   "execution_count": 18,
   "id": "3e6bfcfb",
   "metadata": {},
   "outputs": [],
   "source": [
    "python_hard = \"\"\"# Be careful to support large number sizes\n",
    "\n",
    "def lcg(seed, a=1664525, c=1013904223, m=2**32):\n",
    "    value = seed\n",
    "    while True:\n",
    "        value = (a * value + c) % m\n",
    "        yield value\n",
    "        \n",
    "def max_subarray_sum(n, seed, min_val, max_val):\n",
    "    lcg_gen = lcg(seed)\n",
    "    random_numbers = [next(lcg_gen) % (max_val - min_val + 1) + min_val for _ in range(n)]\n",
    "    max_sum = float('-inf')\n",
    "    for i in range(n):\n",
    "        current_sum = 0\n",
    "        for j in range(i, n):\n",
    "            current_sum += random_numbers[j]\n",
    "            if current_sum > max_sum:\n",
    "                max_sum = current_sum\n",
    "    return max_sum\n",
    "\n",
    "def total_max_subarray_sum(n, initial_seed, min_val, max_val):\n",
    "    total_sum = 0\n",
    "    lcg_gen = lcg(initial_seed)\n",
    "    for _ in range(20):\n",
    "        seed = next(lcg_gen)\n",
    "        total_sum += max_subarray_sum(n, seed, min_val, max_val)\n",
    "    return total_sum\n",
    "\n",
    "# Parameters\n",
    "n = 10000         # Number of random numbers\n",
    "initial_seed = 42 # Initial seed for the LCG\n",
    "min_val = -10     # Minimum value of random numbers\n",
    "max_val = 10      # Maximum value of random numbers\n",
    "\n",
    "# Timing the function\n",
    "import time\n",
    "start_time = time.time()\n",
    "result = total_max_subarray_sum(n, initial_seed, min_val, max_val)\n",
    "end_time = time.time()\n",
    "\n",
    "print(\"Total Maximum Subarray Sum (20 runs):\", result)\n",
    "print(\"Execution Time: {:.6f} seconds\".format(end_time - start_time))\n",
    "\"\"\""
   ]
  },
  {
   "cell_type": "code",
   "execution_count": 19,
   "id": "8a19756c",
   "metadata": {},
   "outputs": [
    {
     "name": "stdout",
     "output_type": "stream",
     "text": [
      "Total Maximum Subarray Sum (20 runs): 10980\n",
      "Execution Time: 75.602117 seconds\n"
     ]
    }
   ],
   "source": [
    "exec(python_hard)\n"
   ]
  },
  {
   "cell_type": "code",
   "execution_count": 20,
   "id": "db21c110",
   "metadata": {},
   "outputs": [
    {
     "name": "stdout",
     "output_type": "stream",
     "text": [
      "#include <iostream>\n",
      "#include <vector>\n",
      "#include <cstdint>\n",
      "#include <chrono>\n",
      "#include <iomanip>\n",
      "#include <algorithm>\n",
      "using namespace std;\n",
      "\n",
      "static const uint64_t A = 1664525ULL;\n",
      "static const uint64_t C = 1013904223ULL;\n",
      "static const uint64_t M = (1ULL << 32);\n",
      "\n",
      "inline uint64_t lcg_next(uint64_t state) {\n",
      "    return (A * state + C) % M;\n",
      "}\n",
      "\n",
      "int64_t max_subarray_sum(int n, uint64_t seed, int min_val, int max_val) {\n",
      "    int range = max_val - min_val + 1;\n",
      "    vector<int64_t> arr(n);\n",
      "    uint64_t state = seed;\n",
      "    for (int i = 0; i < n; i++) {\n",
      "        state = lcg_next(state);\n",
      "        arr[i] = static_cast<int64_t>(state % range) + min_val;\n",
      "    }\n",
      "    int64_t best = arr[0], current = arr[0];\n",
      "    for (int i = 1; i < n; i++) {\n",
      "        current = max(arr[i], current + arr[i]);\n",
      "        best = max(best, current);\n",
      "    }\n",
      "    return best;\n",
      "}\n",
      "\n",
      "int64_t total_max_subarray_sum(int n, uint64_t initial_seed, int min_val, int max_val) {\n",
      "    int64_t total = 0;\n",
      "    uint64_t state = initial_seed;\n",
      "    for (int i = 0; i < 20; i++) {\n",
      "        state = lcg_next(state);\n",
      "        total += max_subarray_sum(n, state, min_val, max_val);\n",
      "    }\n",
      "    return total;\n",
      "}\n",
      "\n",
      "int main(){\n",
      "    int n = 10000;\n",
      "    uint64_t initial_seed = 42ULL;\n",
      "    int min_val = -10;\n",
      "    int max_val = 10;\n",
      "    \n",
      "    auto start = chrono::high_resolution_clock::now();\n",
      "    int64_t result = total_max_subarray_sum(n, initial_seed, min_val, max_val);\n",
      "    auto end = chrono::high_resolution_clock::now();\n",
      "    chrono::duration<double> elapsed = end - start;\n",
      "    \n",
      "    cout << \"Total Maximum Subarray Sum (20 runs): \" << result << \"\\n\";\n",
      "    cout << \"Execution Time: \" << fixed << setprecision(6) << elapsed.count() << \" seconds\" << \"\\n\";\n",
      "    return 0;\n",
      "}"
     ]
    }
   ],
   "source": [
    "optimize_gpt(python_hard)"
   ]
  },
  {
   "cell_type": "code",
   "execution_count": 21,
   "id": "86845503",
   "metadata": {},
   "outputs": [
    {
     "name": "stdout",
     "output_type": "stream",
     "text": [
      "```cpp\n",
      "#include <iostream>     // For std::cout, std::endl\n",
      "#include <vector>       // For std::vector\n",
      "#include <cstdint>      // For uint32_t, uint64_t\n",
      "#include <chrono>       // For std::chrono high_resolution_clock\n",
      "#include <iomanip>      // For std::fixed, std::setprecision\n",
      "#include <limits>       // For std::numeric_limits\n",
      "#include <algorithm>    // For std::max\n",
      "\n",
      "// LCG class to emulate Python's generator, ensuring 32-bit output.\n",
      "// Uses 64-bit intermediate calculations to prevent overflow before modulo.\n",
      "struct LCG {\n",
      "    uint32_t current_seed_val;\n",
      "    const uint64_t A = 1664525ULL;\n",
      "    const uint64_t C = 1013904223ULL;\n",
      "    const uint64_t M = 1ULL << 32; // 2^32\n",
      "\n",
      "    LCG(uint32_t seed) : current_seed_val(seed) {}\n",
      "\n",
      "    uint32_t next() {\n",
      "        uint64_t temp_val = (A * current_seed_val + C);\n",
      "        current_seed_val = static_cast<uint32_t>(temp_val % M);\n",
      "        return current_seed_val;\n",
      "    }\n",
      "};\n",
      "\n",
      "// Finds the maximum sum of a contiguous subarray using Kadane's algorithm (O(N)).\n",
      "// This optimizes the original O(N^2) brute-force approach while yielding identical results.\n",
      "long long max_subarray_sum(int n, uint32_t seed, int min_val, int max_val) {\n",
      "    LCG lcg_gen(seed);\n",
      "    std::vector<int> random_numbers(n);\n",
      "    int range_size = max_val - min_val + 1;\n",
      "\n",
      "    // Generate random numbers for the current run\n",
      "    for (int i = 0; i < n; ++i) {\n",
      "        random_numbers[i] = static_cast<int>(lcg_gen.next() % range_size) + min_val;\n",
      "    }\n",
      "\n",
      "    // Handle the case where n is 0, returning equivalent to Python's float('-inf')\n",
      "    if (n == 0) {\n",
      "        return std::numeric_limits<long long>::min();\n",
      "    }\n",
      "\n",
      "    // Kadane's algorithm for maximum subarray sum\n",
      "    long long max_so_far = random_numbers[0];\n",
      "    long long current_max = random_numbers[0];\n",
      "\n",
      "    for (int i = 1; i < n; ++i) {\n",
      "        // Decide whether to extend the current subarray or start a new one\n",
      "        current_max = std::max(static_cast<long long>(random_numbers[i]), current_max + random_numbers[i]);\n",
      "        // Update the overall maximum sum found so far\n",
      "        max_so_far = std::max(max_so_far, current_max);\n",
      "    }\n",
      "\n",
      "    return max_so_far;\n",
      "}\n",
      "\n",
      "// Calculates the total maximum subarray sum over 20 runs, each with a new seed.\n",
      "long long total_max_subarray_sum(int n, uint32_t initial_seed, int min_val, int max_val) {\n",
      "    long long total_sum = 0;\n",
      "    LCG lcg_gen(initial_seed); // LCG instance to generate seeds for each of the 20 runs\n",
      "\n",
      "    for (int i = 0; i < 20; ++i) { // Fixed 20 iterations as per original Python code\n",
      "        uint32_t seed_for_run = lcg_gen.next();\n",
      "        total_sum += max_subarray_sum(n, seed_for_run, min_val, max_val);\n",
      "    }\n",
      "    return total_sum;\n",
      "}\n",
      "\n",
      "int main() {\n",
      "    // Optimize C++ standard streams for faster I/O operations\n",
      "    std::ios_base::sync_with_stdio(false);\n",
      "    std::cin.tie(NULL);\n",
      "\n",
      "    // Parameters matching the Python script\n",
      "    const int n = 10000;         // Number of random numbers\n",
      "    const uint32_t initial_seed = 42; // Initial seed for the LCG\n",
      "    const int min_val = -10;     // Minimum value of random numbers\n",
      "    const int max_val = 10;      // Maximum value of random numbers\n",
      "\n",
      "    // Start timing the execution\n",
      "    auto start_time = std::chrono::high_resolution_clock::now();\n",
      "\n",
      "    // Execute the main calculation function\n",
      "    long long result = total_max_subarray_sum(n, initial_seed, min_val, max_val);\n",
      "\n",
      "    // End timing and calculate the duration\n",
      "    auto end_time = std::chrono::high_resolution_clock::now();\n",
      "    std::chrono::duration<double> duration = end_time - start_time;\n",
      "\n",
      "    // Print results formatted similarly to the Python output\n",
      "    std::cout << \"Total Maximum Subarray Sum (20 runs): \" << result << std::endl;\n",
      "    std::cout << \"Execution Time: \" << std::fixed << std::setprecision(6) << duration.count() << \" seconds\" << std::endl;\n",
      "\n",
      "    return 0;\n",
      "}\n",
      "```"
     ]
    }
   ],
   "source": [
    "optimize_google(python_hard)"
   ]
  },
  {
   "cell_type": "code",
   "execution_count": 22,
   "id": "8c73a249",
   "metadata": {},
   "outputs": [],
   "source": [
    "def stream_gpt(python):    \n",
    "    stream = openai.chat.completions.create(model=openai_model, messages=messages_for(python), stream=True)\n",
    "    reply = ''\n",
    "    for chunk in stream:\n",
    "        fragment = chunk.choices[0].delta.content or \"\"\n",
    "        reply += fragment\n",
    "        yield reply.replace('```cpp\\n','').replace('```','')\n"
   ]
  },
  {
   "cell_type": "code",
   "execution_count": 23,
   "id": "4306fcc3",
   "metadata": {},
   "outputs": [],
   "source": [
    "def stream_google(python):\n",
    "    client = genai.Client(api_key=google_key)\n",
    "    stream = client.models.generate_content_stream(\n",
    "        model=google_model,\n",
    "        contents=user_prompt(python)\n",
    "    )\n",
    "\n",
    "    reply = ''\n",
    "    for chunk in stream:\n",
    "        chunk = chunk.text\n",
    "        reply += chunk\n",
    "        yield reply.replace('```cpp\\n', '').replace('```', '')\n"
   ]
  },
  {
   "cell_type": "code",
   "execution_count": 24,
   "id": "22aba1ed",
   "metadata": {},
   "outputs": [],
   "source": [
    "def optimize(python, model):\n",
    "    if model == 'GPT':\n",
    "        result = stream_gpt(python)\n",
    "    elif model == 'GOOGLE':\n",
    "        result = stream_google(python)\n",
    "    else:\n",
    "        raise ValueError('Unknown Model')\n",
    "\n",
    "    for item in result:\n",
    "        yield item\n"
   ]
  },
  {
   "cell_type": "code",
   "execution_count": 25,
   "id": "6c86989a",
   "metadata": {},
   "outputs": [
    {
     "name": "stdout",
     "output_type": "stream",
     "text": [
      "Running on local URL:  http://127.0.0.1:7860\n",
      "\n",
      "To create a public link, set `share=True` in `launch()`.\n"
     ]
    },
    {
     "data": {
      "text/html": [
       "<div><iframe src=\"http://127.0.0.1:7860/\" width=\"100%\" height=\"500\" allow=\"autoplay; camera; microphone; clipboard-read; clipboard-write;\" frameborder=\"0\" allowfullscreen></iframe></div>"
      ],
      "text/plain": [
       "<IPython.core.display.HTML object>"
      ]
     },
     "metadata": {},
     "output_type": "display_data"
    },
    {
     "data": {
      "text/plain": []
     },
     "execution_count": 25,
     "metadata": {},
     "output_type": "execute_result"
    }
   ],
   "source": [
    "with gr.Blocks() as ui :\n",
    "    with gr.Row():\n",
    "        python = gr.Textbox(label=\"Python Code; \",lines=10,value=python_hard)\n",
    "        cpp = gr.Textbox(label='C++ Code:',lines=10)\n",
    "    with gr.Row():\n",
    "        model = gr.Dropdown(['GPT','GOOGLE'],label='Select Model',value='GPT')\n",
    "        convert = gr.Button('Convert Code')\n",
    "\n",
    "    convert.click(optimize,inputs=[python,model],outputs=[cpp])\n",
    "\n",
    "ui.launch(inbrowser=True)"
   ]
  }
 ],
 "metadata": {
  "kernelspec": {
   "display_name": "llm-engineering",
   "language": "python",
   "name": "python3"
  },
  "language_info": {
   "codemirror_mode": {
    "name": "ipython",
    "version": 3
   },
   "file_extension": ".py",
   "mimetype": "text/x-python",
   "name": "python",
   "nbconvert_exporter": "python",
   "pygments_lexer": "ipython3",
   "version": "3.9.21"
  }
 },
 "nbformat": 4,
 "nbformat_minor": 5
}
