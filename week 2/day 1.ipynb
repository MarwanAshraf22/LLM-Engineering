{
 "cells": [
  {
   "cell_type": "code",
   "execution_count": 1,
   "id": "ac6558cd",
   "metadata": {},
   "outputs": [],
   "source": [
    "import os\n",
    "from dotenv import load_dotenv\n",
    "from IPython.display import display,Markdown,update_display\n",
    "from openai import OpenAI\n",
    "import google.generativeai"
   ]
  },
  {
   "cell_type": "code",
   "execution_count": 2,
   "id": "75fd6f47",
   "metadata": {},
   "outputs": [],
   "source": [
    "load_dotenv()\n",
    "openai_key = os.getenv('OPENAI_API_KEY')\n",
    "google_key = os.getenv('GOOGLE_API_KEY')"
   ]
  },
  {
   "cell_type": "code",
   "execution_count": 3,
   "id": "73eed68a",
   "metadata": {},
   "outputs": [],
   "source": [
    "openai = OpenAI()\n",
    "google.generativeai.configure()"
   ]
  },
  {
   "cell_type": "code",
   "execution_count": 4,
   "id": "57ffa399",
   "metadata": {},
   "outputs": [],
   "source": [
    "system_prompt = 'you are an assistant that is great at telling jokes'\n",
    "user_prompt = 'tell me a joke about egyptians'"
   ]
  },
  {
   "cell_type": "code",
   "execution_count": 5,
   "id": "d3712535",
   "metadata": {},
   "outputs": [],
   "source": [
    "prompts = [\n",
    "    {'role':'system','content':system_prompt},\n",
    "    {'role':'user','content':user_prompt}\n",
    "]"
   ]
  },
  {
   "cell_type": "code",
   "execution_count": 6,
   "id": "43413192",
   "metadata": {},
   "outputs": [
    {
     "name": "stdout",
     "output_type": "stream",
     "text": [
      "Why did the Egyptian pharaoh go to the chiropractor? \n",
      "\n",
      "Because he had a Cairo-practic back!None"
     ]
    }
   ],
   "source": [
    "openai_model = 'gpt-3.5-turbo'\n",
    "stream = openai.chat.completions.create(\n",
    "    model=openai_model,\n",
    "    messages=prompts,\n",
    "    stream=True\n",
    "    )\n",
    "for chunk in stream:\n",
    "    print(chunk.choices[0].delta.content, end='',flush=True)"
   ]
  },
  {
   "cell_type": "code",
   "execution_count": 7,
   "id": "3387a67d",
   "metadata": {},
   "outputs": [
    {
     "name": "stdout",
     "output_type": "stream",
     "text": [
      "Why did the Egyptian pharaoh never get lost?\n",
      "\n",
      "Because he always followed the pyramid scheme!\n"
     ]
    }
   ],
   "source": [
    "openai_model = 'gpt-4o-mini'\n",
    "completion = openai.chat.completions.create(\n",
    "    model=openai_model,\n",
    "    messages=prompts,\n",
    "    )\n",
    "print(completion.choices[0].message.content)"
   ]
  },
  {
   "cell_type": "code",
   "execution_count": 8,
   "id": "2da925a1",
   "metadata": {},
   "outputs": [
    {
     "name": "stdout",
     "output_type": "stream",
     "text": [
      "Why did the ancient Egyptian go to jail?\n",
      "\n",
      "He was caught trying to pyramid scheme!\n"
     ]
    }
   ],
   "source": [
    "openai_model = 'gpt-4o'\n",
    "completion = openai.chat.completions.create(\n",
    "    model=openai_model,\n",
    "    messages=prompts,\n",
    "    )\n",
    "print(completion.choices[0].message.content)"
   ]
  },
  {
   "cell_type": "code",
   "execution_count": null,
   "id": "4af0cc63",
   "metadata": {},
   "outputs": [
    {
     "name": "stdout",
     "output_type": "stream",
     "text": [
      "Why did the Egyptian go bankrupt?  \n",
      "\n",
      "Because he spent all his money on pyramids schemes!\n",
      "\n"
     ]
    }
   ],
   "source": [
    "gemini = google.generativeai.GenerativeModel(\n",
    "    model_name='gemini-1.5-flash',\n",
    "    system_instruction=system_prompt,\n",
    ")\n",
    "response = gemini.generate_content(user_prompt)\n",
    "print(response.text)"
   ]
  }
 ],
 "metadata": {
  "kernelspec": {
   "display_name": "llm-engineering",
   "language": "python",
   "name": "python3"
  },
  "language_info": {
   "codemirror_mode": {
    "name": "ipython",
    "version": 3
   },
   "file_extension": ".py",
   "mimetype": "text/x-python",
   "name": "python",
   "nbconvert_exporter": "python",
   "pygments_lexer": "ipython3",
   "version": "3.9.21"
  }
 },
 "nbformat": 4,
 "nbformat_minor": 5
}
